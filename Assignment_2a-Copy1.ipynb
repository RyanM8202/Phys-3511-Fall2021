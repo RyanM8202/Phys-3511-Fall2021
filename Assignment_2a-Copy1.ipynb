{
 "cells": [
  {
   "cell_type": "markdown",
   "metadata": {},
   "source": [
    "# Assignment 2a Due 9/8\n",
    "\n",
    "In this assigment you will explore and become familiar with writing and using algorithms to numerically approxomate definite integrals.\n",
    "\n",
    "Assignment Overview:\n",
    "* Impliment your own midpoint, trapazoid, and Simpson's rule integration algorithms\n",
    "* Use those to solve a definite integral\n",
    "* Compare your algorithms to those from scipy\n",
    "* Compare all approximate solutions to the exact solutions\n"
   ]
  },
  {
   "cell_type": "markdown",
   "metadata": {},
   "source": [
    "You can import only the following packages: numpy, math, scipy, matplotlib.pyplot"
   ]
  },
  {
   "cell_type": "code",
   "execution_count": 83,
   "metadata": {},
   "outputs": [],
   "source": [
    "#your import cell\n",
    "import numpy as np\n",
    "import math \n",
    "import scipy as sp\n",
    "import matplotlib.pyplot as plt\n",
    "import scipy.integrate"
   ]
  },
  {
   "cell_type": "markdown",
   "metadata": {},
   "source": [
    "Now we can define our integration algorithms"
   ]
  },
  {
   "cell_type": "code",
   "execution_count": 98,
   "metadata": {},
   "outputs": [
    {
     "data": {
      "text/plain": [
       "41.5625"
      ]
     },
     "execution_count": 98,
     "metadata": {},
     "output_type": "execute_result"
    }
   ],
   "source": [
    "#define midpoint rule\n",
    "\n",
    "def riemann_sum_mid(f,xmin,xmax,n_part):\n",
    "    '''Approximates integral using Riemann sum of the midpoint.\n",
    "       Takes the function f(x),\n",
    "                  intitial x position, xmin,\n",
    "                   final x position, xmax,\n",
    "                   and number of partitions, n_part\n",
    "                   as agruments'''\n",
    "    #define Delta x\n",
    "    \n",
    "    dx = (xmax - xmin)/float(n_part)\n",
    "    area = 0\n",
    "\n",
    "    \n",
    "    \n",
    "    for i in range (0,n_part):\n",
    "        j = i + .5\n",
    "        area += dx*f(xmin + j*dx)\n",
    "   \n",
    "    \n",
    "    return area\n",
    "\n",
    "\n",
    "my_func = lambda x : x**2\n",
    "riemann_sum_mid(my_func,0,5,10) "
   ]
  },
  {
   "cell_type": "code",
   "execution_count": 2,
   "metadata": {},
   "outputs": [
    {
     "data": {
      "text/plain": [
       "41.875"
      ]
     },
     "execution_count": 2,
     "metadata": {},
     "output_type": "execute_result"
    }
   ],
   "source": [
    "#define trapazoidal rule\n",
    "\n",
    "def trap_sum(f,xmin,xmax,n_part):\n",
    "    '''Approximates integral using Trapezoidal sum.\n",
    "       Takes the function f(x),\n",
    "                  intitial x position, xmin,\n",
    "                   final x position, xmax,\n",
    "                   and number of partitions, n_part\n",
    "                   as agruments'''\n",
    "    #define Delta x\n",
    "    \n",
    "    dx = (xmax - xmin)/float(n_part)\n",
    "    area = 0\n",
    "\n",
    "    \n",
    "    \n",
    "    for i in range (0,n_part):\n",
    "        j = i+1\n",
    "        area += dx*(f(xmin + j*dx)+f(xmin + i*dx))/2\n",
    "   \n",
    "    \n",
    "    return area\n",
    "\n",
    "my_func = lambda x : x**2\n",
    "trap_sum(my_func,0,5,10) \n"
   ]
  },
  {
   "cell_type": "code",
   "execution_count": 69,
   "metadata": {},
   "outputs": [],
   "source": [
    "#define simpson's rule \n",
    "# simpson's is weighted average of trapezoid and midpoint\n",
    "\n",
    "def simpson(f, xmin, xmax, n_part):\n",
    "    '''Approximates integral using simpson's rule.\n",
    "    Takes the function f(x),intitial x position, xmin,final x position, xmax, and number of partitions, n_partas agruments'''\n",
    "        \n",
    "    area1 = (1/3) * trap_sum(f,xmin,xmax,n_part) + (2/3) * riemann_sum_mid(f,xmin,xmax,n_part)\n",
    "    return  area1\n",
    "\n"
   ]
  },
  {
   "cell_type": "markdown",
   "metadata": {},
   "source": [
    "# Question \n",
    "Sanity checking your code is very important. How can you check that your functions are working properly?"
   ]
  },
  {
   "cell_type": "markdown",
   "metadata": {},
   "source": [
    "Test them by putting numbers in. One way is by generating random numbers with a seed so put into the function. "
   ]
  },
  {
   "cell_type": "markdown",
   "metadata": {},
   "source": [
    "For this notebook assigment we would like to solve the integral\\\n",
    "$\\int_{a}^{b} \\frac{2}{(2^2 + x^2)^{3/2}}dx$"
   ]
  },
  {
   "cell_type": "markdown",
   "metadata": {},
   "source": [
    "# Question\n",
    "Have you seen an integral like this before in physics? From where?"
   ]
  },
  {
   "cell_type": "markdown",
   "metadata": {},
   "source": [
    "I believe I saw an integral kind of like this before in Physics 1062. Something to do with Electricity and Magnetism."
   ]
  },
  {
   "cell_type": "markdown",
   "metadata": {},
   "source": [
    "Solve the above integral using the numerical integrations that you wrote. When defining the function we will integrate over do so using python's **lambda** function.\n",
    "\n",
    "For the integration take $a = 0,\\; b = 2,\\;$ and we will split it up into 6 partitions."
   ]
  },
  {
   "cell_type": "markdown",
   "metadata": {},
   "source": [
    "# Question\n",
    "What is the exact solution?"
   ]
  },
  {
   "cell_type": "code",
   "execution_count": 75,
   "metadata": {},
   "outputs": [],
   "source": [
    "#exact solution to the integral\n",
    "int_exact = 0.7482134192197608"
   ]
  },
  {
   "cell_type": "code",
   "execution_count": 73,
   "metadata": {},
   "outputs": [
    {
     "name": "stdout",
     "output_type": "stream",
     "text": [
      "0.7466588545912648\n",
      "0.7482162531145313\n",
      "0.7489949523761645\n"
     ]
    }
   ],
   "source": [
    "#solve the integral using your integration functions\n",
    "int_func = lambda x : 2/(((2**2)+(x**2)**(3/2)))\n",
    "trap = trap_sum(int_func,0,2,6) \n",
    "simp = simpson(int_func,0,2,6) \n",
    "mid = riemann_sum_mid(int_func,0,2,6) \n",
    "#left = riemann_sum_left(int_func,0,2,6) \n",
    "#right = riemann_sum_right(int_func,0,2,6) \n",
    "print(trap)\n",
    "print(simp)\n",
    "print(mid)"
   ]
  },
  {
   "cell_type": "markdown",
   "metadata": {},
   "source": [
    "Use the trapz and simps methods from scipy's integration library to solve the integral.\n",
    "\n",
    "Note: Shit+tab at the end of a function in jupyter notebook reveals lots of information about the function."
   ]
  },
  {
   "cell_type": "code",
   "execution_count": 74,
   "metadata": {},
   "outputs": [
    {
     "name": "stdout",
     "output_type": "stream",
     "text": [
      "0.7459677252914133\n",
      "0.7483842216483411\n"
     ]
    }
   ],
   "source": [
    "#scipy integration\n",
    "\n",
    "xs = np.linspace(0,2,6)\n",
    "int_func2 = 2/(((2**2)+(xs**2)**(3/2)))\n",
    "print(sp.integrate.trapz(int_func2,xs))\n",
    "print(sp.integrate.simps(int_func2,xs))"
   ]
  },
  {
   "cell_type": "markdown",
   "metadata": {},
   "source": [
    "# Question\n",
    "How do scipy integrals compare to yours? Support your answer. "
   ]
  },
  {
   "cell_type": "markdown",
   "metadata": {},
   "source": [
    "Mine\n",
    "\n",
    "0.7466588545912648\n",
    "0.7482162531145313\n",
    "\n",
    "Scipy \n",
    "\n",
    "0.7459677252914133\n",
    "0.7483842216483411\n",
    "\n",
    "They are similar to the first 3 decimals "
   ]
  },
  {
   "cell_type": "code",
   "execution_count": null,
   "metadata": {},
   "outputs": [],
   "source": [
    "#print the numerical values\n"
   ]
  },
  {
   "cell_type": "markdown",
   "metadata": {},
   "source": [
    "Numerically compare your midpoint, trapazoid, and Simpson method results to the exact value by calculating the quantity (approx - exact) / exact for each method. "
   ]
  },
  {
   "cell_type": "code",
   "execution_count": 79,
   "metadata": {},
   "outputs": [
    {
     "name": "stdout",
     "output_type": "stream",
     "text": [
      "0.0020777021482949586\n",
      "3.7875487096589575e-06\n",
      "0.0010445323972118935\n"
     ]
    }
   ],
   "source": [
    "#numerical comparisons\n",
    "def error(approx, exact=int_exact):\n",
    "    err = abs((approx - exact)/exact)\n",
    "    return err\n",
    "\n",
    "print(error(trap))\n",
    "print(error(simp))\n",
    "print(error(mid))"
   ]
  },
  {
   "cell_type": "markdown",
   "metadata": {},
   "source": [
    "# Question\n",
    "Which method provides the best approximation to the exact solution?"
   ]
  },
  {
   "cell_type": "markdown",
   "metadata": {},
   "source": [
    "Simpson"
   ]
  },
  {
   "cell_type": "markdown",
   "metadata": {},
   "source": [
    "It is often useful to represent the data graphically. Make a scatter plot showing the percent difference $100 \\times \\frac{approx. - exact}{exact}$ vs. integration method. Integration method on your x-axis should be strings such as *midpoint, trapazoid, and Simpson*. You should also draw on your plot a line at *y = 0*, which will help guide the eye where the perfect approximation (the exact solution) would sit. "
   ]
  },
  {
   "cell_type": "code",
   "execution_count": 92,
   "metadata": {},
   "outputs": [
    {
     "data": {
      "text/plain": [
       "Text(0.5, 1.0, 'Scatter')"
      ]
     },
     "execution_count": 92,
     "metadata": {},
     "output_type": "execute_result"
    },
    {
     "data": {
      "image/png": "[encoded data removed]",
      "text/plain": [
       "<Figure size 432x288 with 1 Axes>"
      ]
     },
     "metadata": {
      "needs_background": "light"
     },
     "output_type": "display_data"
    }
   ],
   "source": [
    "#plot\n",
    "x1 = [\"midpoint\",\"trapazoid\",\"simpson\"]\n",
    "y1 = [error(mid),error(trap),error(simp)]\n",
    "y2 = [0,0,0] \n",
    "\n",
    "fig = plt.figure()\n",
    "ax = fig.add_axes([0.1,0.1,0.8,0.8])\n",
    "ax.scatter(x1,y1,marker='o')\n",
    "ax.plot(x,y2)\n",
    "ax.set_xlabel('integration method')\n",
    "ax.set_ylabel('error')\n",
    "ax.set_title('Scatter')"
   ]
  },
  {
   "cell_type": "markdown",
   "metadata": {},
   "source": [
    "Using the scipy *quad* integration method, approximate the following integral\n",
    "\n",
    "$$\\int_{-\\infty}^{\\infty} e^{-x^{2}} dx$$\n",
    "\n",
    "Hint: Reference <a href=\"https://numpy.org/\">numpy</a> and see what it has to offer in terms of functions and *special* values"
   ]
  },
  {
   "cell_type": "code",
   "execution_count": 97,
   "metadata": {},
   "outputs": [
    {
     "data": {
      "text/plain": [
       "(1.7724538509055159, 1.4202636780944923e-08)"
      ]
     },
     "execution_count": 97,
     "metadata": {},
     "output_type": "execute_result"
    }
   ],
   "source": [
    "#solve integral above\n",
    "\n",
    "f2 = lambda x: np.exp(-x**2)\n",
    "\n",
    "scipy.integrate.quad(f2,-np.inf,np.inf)"
   ]
  },
  {
   "cell_type": "markdown",
   "metadata": {},
   "source": [
    "# Question\n",
    "If you square your solution, does the resulting number have any special meaning?"
   ]
  },
  {
   "cell_type": "markdown",
   "metadata": {},
   "source": [
    "It is pi"
   ]
  }
 ],
 "metadata": {
  "kernelspec": {
   "display_name": "Python 3",
   "language": "python",
   "name": "python3"
  },
  "language_info": {
   "codemirror_mode": {
    "name": "ipython",
    "version": 3
   },
   "file_extension": ".py",
   "mimetype": "text/x-python",
   "name": "python",
   "nbconvert_exporter": "python",
   "pygments_lexer": "ipython3",
   "version": "3.8.5"
  }
 },
 "nbformat": 4,
 "nbformat_minor": 4
}
